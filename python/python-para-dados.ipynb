{
 "cells": [
  {
   "cell_type": "markdown",
   "metadata": {},
   "source": [
    "# Python para Dados - Atividade de Fixação Numpy\n",
    "[Link da aula](https://www.maismulheres.tech/courses/take/turma-6-bootcamp-data-analytics/pdfs/52281725-atividades-numpy)\n",
    "\n",
    "## Introdutório"
   ]
  },
  {
   "cell_type": "code",
   "execution_count": 6,
   "metadata": {},
   "outputs": [
    {
     "name": "stdout",
     "output_type": "stream",
     "text": [
      "Requirement already satisfied: numpy in c:\\users\\débora\\appdata\\local\\programs\\python\\python312\\lib\\site-packages (1.26.3)\n",
      "Note: you may need to restart the kernel to use updated packages.\n"
     ]
    }
   ],
   "source": [
    "pip install numpy"
   ]
  },
  {
   "cell_type": "code",
   "execution_count": 8,
   "metadata": {},
   "outputs": [],
   "source": [
    "import numpy as np"
   ]
  },
  {
   "cell_type": "code",
   "execution_count": 9,
   "metadata": {},
   "outputs": [
    {
     "data": {
      "text/plain": [
       "array([[0.0055215 , 0.93391626, 0.51561687],\n",
       "       [0.70256336, 0.14882572, 0.5806659 ],\n",
       "       [0.63278599, 0.699132  , 0.27065177],\n",
       "       [0.4482313 , 0.31734118, 0.03077411]])"
      ]
     },
     "execution_count": 9,
     "metadata": {},
     "output_type": "execute_result"
    }
   ],
   "source": [
    "# 1. Crie um array com 4 linhas e 3 colunas com valores aleatórios.\n",
    "array1 = np.random.random((4, 3))\n",
    "array1"
   ]
  },
  {
   "cell_type": "code",
   "execution_count": 10,
   "metadata": {},
   "outputs": [
    {
     "data": {
      "text/plain": [
       "array([[13, 23,  8, 68, 10],\n",
       "       [17, 11, 74,  6, 15],\n",
       "       [98, 50, 95, 74, 79]])"
      ]
     },
     "execution_count": 10,
     "metadata": {},
     "output_type": "execute_result"
    }
   ],
   "source": [
    "# 2. Crie um array com valores inteiros, 3 linhas e 5 colunas com valores aleatórios.\n",
    "array2 = np.random.randint(0, 100, size=(3, 5))\n",
    "array2"
   ]
  },
  {
   "cell_type": "code",
   "execution_count": 11,
   "metadata": {},
   "outputs": [
    {
     "data": {
      "text/plain": [
       "array([[0., 0., 0., 0., 0.],\n",
       "       [0., 0., 0., 0., 0.],\n",
       "       [0., 0., 0., 0., 0.],\n",
       "       [0., 0., 0., 0., 0.],\n",
       "       [0., 0., 0., 0., 0.],\n",
       "       [0., 0., 0., 0., 0.],\n",
       "       [0., 0., 0., 0., 0.],\n",
       "       [0., 0., 0., 0., 0.],\n",
       "       [0., 0., 0., 0., 0.],\n",
       "       [0., 0., 0., 0., 0.]])"
      ]
     },
     "execution_count": 11,
     "metadata": {},
     "output_type": "execute_result"
    }
   ],
   "source": [
    "# 3. Crie um array com 5 colunas e 10 linhas inicializados com zeros.\n",
    "array3 = np.zeros((10, 5))\n",
    "array3"
   ]
  },
  {
   "cell_type": "code",
   "execution_count": 12,
   "metadata": {},
   "outputs": [
    {
     "data": {
      "text/plain": [
       "array([ 0,  4,  8, 12, 16, 20, 24, 28, 32, 36, 40, 44, 48, 52, 56, 60, 64,\n",
       "       68, 72, 76, 80, 84, 88])"
      ]
     },
     "execution_count": 12,
     "metadata": {},
     "output_type": "execute_result"
    }
   ],
   "source": [
    "# 4. Crie um array que vá entre 0 e 90, pulando de 4 em 4.\n",
    "array4 = np.arange(0, 91, 4)\n",
    "array4"
   ]
  },
  {
   "cell_type": "code",
   "execution_count": 13,
   "metadata": {},
   "outputs": [
    {
     "data": {
      "text/plain": [
       "array([0.98972826, 0.89109393, 0.13010076, 0.81784001, 0.09561772,\n",
       "       0.98600436, 0.16018409, 0.99810638, 0.64699426, 0.85597069,\n",
       "       0.58624689, 0.68248703, 0.68088352, 0.31107228, 0.89717762,\n",
       "       0.92391844, 0.07214423, 0.37768207, 0.62252017, 0.63202398,\n",
       "       0.04964939, 0.9739533 , 0.16032038, 0.73909062, 0.26528516,\n",
       "       0.52340901, 0.54999517, 0.15537528, 0.46455972, 0.96733121,\n",
       "       0.285744  , 0.49973616, 0.08164801, 0.62492292, 0.8530298 ])"
      ]
     },
     "execution_count": 13,
     "metadata": {},
     "output_type": "execute_result"
    }
   ],
   "source": [
    "# 5. Reduza o array (5, 7) a apenas uma dimensão.\n",
    "array5 = np.random.random((5, 7))\n",
    "array5_flat = array5.flatten()\n",
    "array5_flat"
   ]
  },
  {
   "cell_type": "code",
   "execution_count": 14,
   "metadata": {},
   "outputs": [
    {
     "data": {
      "text/plain": [
       "array([[[ 7,  7, 27],\n",
       "        [24,  9,  7],\n",
       "        [ 4,  4, 15],\n",
       "        [27, 27, 11]],\n",
       "\n",
       "       [[ 4, 30, 19],\n",
       "        [19,  2, 26],\n",
       "        [22,  6, 20],\n",
       "        [ 3, 20, 24]],\n",
       "\n",
       "       [[21,  6, 30],\n",
       "        [20, 27, 17],\n",
       "        [ 1, 21, 27],\n",
       "        [28,  2,  3]],\n",
       "\n",
       "       [[29, 14, 26],\n",
       "        [20, 16, 24],\n",
       "        [26, 24,  3],\n",
       "        [ 3, 23, 13]],\n",
       "\n",
       "       [[14,  6, 13],\n",
       "        [13, 17, 11],\n",
       "        [18,  8,  2],\n",
       "        [ 8,  9, 12]],\n",
       "\n",
       "       [[19, 20, 26],\n",
       "        [28,  9, 26],\n",
       "        [25, 29, 20],\n",
       "        [11, 19, 18]],\n",
       "\n",
       "       [[ 2, 16, 23],\n",
       "        [23, 23,  3],\n",
       "        [14, 24,  3],\n",
       "        [11, 10, 22]],\n",
       "\n",
       "       [[ 7, 26, 13],\n",
       "        [17, 20,  1],\n",
       "        [ 4, 30, 13],\n",
       "        [24, 28, 14]],\n",
       "\n",
       "       [[ 3,  9, 30],\n",
       "        [20, 29, 27],\n",
       "        [18, 27, 17],\n",
       "        [22, 16, 13]],\n",
       "\n",
       "       [[15,  4, 16],\n",
       "        [28,  4, 17],\n",
       "        [21, 20, 25],\n",
       "        [16, 28, 14]]])"
      ]
     },
     "execution_count": 14,
     "metadata": {},
     "output_type": "execute_result"
    }
   ],
   "source": [
    "# 6. Crie um array que representa a cartilha do jogo de bingo.\n",
    "#    Cada cartela tem 12 números variando de 1 a 30, e há 10 participantes.\n",
    "cartelas = np.random.choice(np.arange(1, 31), size=(10, 4, 3), replace=True)\n",
    "cartelas"
   ]
  },
  {
   "cell_type": "code",
   "execution_count": 15,
   "metadata": {},
   "outputs": [
    {
     "data": {
      "text/plain": [
       "array([[[ 7,  7, 27, 24,  9,  7],\n",
       "        [ 4,  4, 15, 27, 27, 11],\n",
       "        [ 4, 30, 19, 19,  2, 26],\n",
       "        [22,  6, 20,  3, 20, 24]],\n",
       "\n",
       "       [[21,  6, 30, 20, 27, 17],\n",
       "        [ 1, 21, 27, 28,  2,  3],\n",
       "        [29, 14, 26, 20, 16, 24],\n",
       "        [26, 24,  3,  3, 23, 13]],\n",
       "\n",
       "       [[14,  6, 13, 13, 17, 11],\n",
       "        [18,  8,  2,  8,  9, 12],\n",
       "        [19, 20, 26, 28,  9, 26],\n",
       "        [25, 29, 20, 11, 19, 18]],\n",
       "\n",
       "       [[ 2, 16, 23, 23, 23,  3],\n",
       "        [14, 24,  3, 11, 10, 22],\n",
       "        [ 7, 26, 13, 17, 20,  1],\n",
       "        [ 4, 30, 13, 24, 28, 14]],\n",
       "\n",
       "       [[ 3,  9, 30, 20, 29, 27],\n",
       "        [18, 27, 17, 22, 16, 13],\n",
       "        [15,  4, 16, 28,  4, 17],\n",
       "        [21, 20, 25, 16, 28, 14]]])"
      ]
     },
     "execution_count": 15,
     "metadata": {},
     "output_type": "execute_result"
    }
   ],
   "source": [
    "# 7. Faça reshapes das cartelas para que haja 5 cartelas de 4 linhas e 6 colunas.\n",
    "cartelas_reshaped = cartelas.reshape((5, 4, 6))\n",
    "cartelas_reshaped"
   ]
  },
  {
   "cell_type": "markdown",
   "metadata": {},
   "source": [
    "## Manipulando Arrays\n",
    "\n",
    "**1.Explorando Ecossistemas:** Como bióloga marinha,me encontrei em uma expedição nas profundezas do Oceano Pacífico,onde estávamos estudando a biodiversidade e a saúde dos recifes de coral.O catálogo abaixo demonstra dados das espécies encontradas, considere a seguinte ordem de colunas:\n",
    "\n",
    "- ID da espécie\n",
    "- Quantidade de representantes encontrados\n",
    "- Profundeza\n",
    "- Tamanho médio da espécie"
   ]
  },
  {
   "cell_type": "code",
   "execution_count": null,
   "metadata": {},
   "outputs": [],
   "source": []
  }
 ],
 "metadata": {
  "kernelspec": {
   "display_name": "Python 3",
   "language": "python",
   "name": "python3"
  },
  "language_info": {
   "codemirror_mode": {
    "name": "ipython",
    "version": 3
   },
   "file_extension": ".py",
   "mimetype": "text/x-python",
   "name": "python",
   "nbconvert_exporter": "python",
   "pygments_lexer": "ipython3",
   "version": "3.12.1"
  }
 },
 "nbformat": 4,
 "nbformat_minor": 2
}
