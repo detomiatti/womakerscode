{
 "cells": [
  {
   "cell_type": "markdown",
   "metadata": {},
   "source": [
    "# Python para Dados - Atividade de Fixação Numpy\n",
    "[Link da aula](https://www.maismulheres.tech/courses/take/turma-6-bootcamp-data-analytics/pdfs/52281725-atividades-numpy)\n",
    "\n",
    "## Introdutório"
   ]
  },
  {
   "cell_type": "code",
   "execution_count": 5,
   "metadata": {},
   "outputs": [
    {
     "name": "stdout",
     "output_type": "stream",
     "text": [
      "Requirement already satisfied: numpy in c:\\users\\débora\\appdata\\local\\programs\\python\\python312\\lib\\site-packages (1.26.3)Note: you may need to restart the kernel to use updated packages.\n"
     ]
    },
    {
     "name": "stderr",
     "output_type": "stream",
     "text": [
      "ERROR: Could not find a version that satisfies the requirement as (from versions: none)\n",
      "ERROR: No matching distribution found for as\n",
      "\n",
      "[notice] A new release of pip is available: 23.2.1 -> 23.3.2\n",
      "[notice] To update, run: python.exe -m pip install --upgrade pip\n"
     ]
    },
    {
     "name": "stdout",
     "output_type": "stream",
     "text": [
      "\n"
     ]
    }
   ],
   "source": [
    "pip install numpy as np"
   ]
  },
  {
   "cell_type": "code",
   "execution_count": 6,
   "metadata": {},
   "outputs": [
    {
     "ename": "NameError",
     "evalue": "name 'np' is not defined",
     "output_type": "error",
     "traceback": [
      "\u001b[1;31m---------------------------------------------------------------------------\u001b[0m",
      "\u001b[1;31mNameError\u001b[0m                                 Traceback (most recent call last)",
      "Cell \u001b[1;32mIn[6], line 2\u001b[0m\n\u001b[0;32m      1\u001b[0m \u001b[38;5;66;03m# 1. Crie um array com 4 linhas e 3 colunas com valores aleatórios.\u001b[39;00m\n\u001b[1;32m----> 2\u001b[0m array1 \u001b[38;5;241m=\u001b[39m \u001b[43mnp\u001b[49m\u001b[38;5;241m.\u001b[39mrandom\u001b[38;5;241m.\u001b[39mrandom((\u001b[38;5;241m4\u001b[39m, \u001b[38;5;241m3\u001b[39m))\n\u001b[0;32m      3\u001b[0m array1\n",
      "\u001b[1;31mNameError\u001b[0m: name 'np' is not defined"
     ]
    }
   ],
   "source": [
    "# 1. Crie um array com 4 linhas e 3 colunas com valores aleatórios.\n",
    "array1 = np.random.random((4, 3))\n",
    "array1"
   ]
  },
  {
   "cell_type": "code",
   "execution_count": null,
   "metadata": {},
   "outputs": [],
   "source": [
    "# 2. Crie um array com valores inteiros, 3 linhas e 5 colunas com valores aleatórios.\n",
    "array2 = np.random.randint(0, 100, size=(3, 5))\n",
    "array2"
   ]
  },
  {
   "cell_type": "code",
   "execution_count": null,
   "metadata": {},
   "outputs": [],
   "source": [
    "# 3. Crie um array com 5 colunas e 10 linhas inicializados com zeros.\n",
    "array3 = np.zeros((10, 5))\n",
    "array3"
   ]
  },
  {
   "cell_type": "code",
   "execution_count": null,
   "metadata": {},
   "outputs": [],
   "source": [
    "# 4. Crie um array que vá entre 0 e 90, pulando de 4 em 4.\n",
    "array4 = np.arange(0, 91, 4)\n",
    "array4"
   ]
  },
  {
   "cell_type": "code",
   "execution_count": null,
   "metadata": {},
   "outputs": [],
   "source": [
    "# 5. Reduza o array (5, 7) a apenas uma dimensão.\n",
    "array5 = np.random.random((5, 7))\n",
    "array5_flat = array5.flatten()\n",
    "array5_flat"
   ]
  },
  {
   "cell_type": "code",
   "execution_count": null,
   "metadata": {},
   "outputs": [],
   "source": [
    "# 6. Crie um array que representa a cartilha do jogo de bingo.\n",
    "#    Cada cartela tem 12 números variando de 1 a 30, e há 10 participantes.\n",
    "cartelas = np.random.choice(np.arange(1, 31), size=(10, 4, 3), replace=True)\n",
    "cartelas"
   ]
  },
  {
   "cell_type": "code",
   "execution_count": null,
   "metadata": {},
   "outputs": [],
   "source": [
    "# 7. Faça reshapes das cartelas para que haja 5 cartelas de 4 linhas e 6 colunas.\n",
    "cartelas_reshaped = cartelas.reshape((5, 4, 6))\n",
    "cartelas_reshaped"
   ]
  },
  {
   "cell_type": "markdown",
   "metadata": {},
   "source": [
    "## Manipulando Arrays\n",
    "\n",
    "**1.Explorando Ecossistemas:** Como bióloga marinha,me encontrei em uma expedição nas profundezas do Oceano Pacífico,onde estávamos estudando a biodiversidade e a saúde dos recifes de coral.O catálogo abaixo demonstra dados das espécies encontradas, considere a seguinte ordem de colunas:\n",
    "\n",
    "- ID da espécie\n",
    "- Quantidade de representantes encontrados\n",
    "- Profundeza\n",
    "- Tamanho médio da espécie"
   ]
  },
  {
   "cell_type": "code",
   "execution_count": null,
   "metadata": {},
   "outputs": [],
   "source": []
  }
 ],
 "metadata": {
  "kernelspec": {
   "display_name": "Python 3",
   "language": "python",
   "name": "python3"
  },
  "language_info": {
   "codemirror_mode": {
    "name": "ipython",
    "version": 3
   },
   "file_extension": ".py",
   "mimetype": "text/x-python",
   "name": "python",
   "nbconvert_exporter": "python",
   "pygments_lexer": "ipython3",
   "version": "3.12.1"
  }
 },
 "nbformat": 4,
 "nbformat_minor": 2
}
