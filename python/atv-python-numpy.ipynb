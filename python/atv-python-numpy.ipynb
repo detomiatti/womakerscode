{
 "cells": [
  {
   "cell_type": "markdown",
   "metadata": {},
   "source": [
    "# Python para Dados - Atividade de Fixação Numpy\n",
    "[Link da aula](https://www.maismulheres.tech/courses/take/turma-6-bootcamp-data-analytics/pdfs/52281725-atividades-numpy)\n",
    "\n",
    "## Introdutório"
   ]
  },
  {
   "cell_type": "code",
   "execution_count": 6,
   "metadata": {},
   "outputs": [
    {
     "name": "stdout",
     "output_type": "stream",
     "text": [
      "Requirement already satisfied: numpy in c:\\users\\débora\\appdata\\local\\programs\\python\\python312\\lib\\site-packages (1.26.3)\n",
      "Note: you may need to restart the kernel to use updated packages.\n"
     ]
    }
   ],
   "source": [
    "pip install numpy"
   ]
  },
  {
   "cell_type": "code",
   "execution_count": 42,
   "metadata": {},
   "outputs": [],
   "source": [
    "import numpy as np"
   ]
  },
  {
   "cell_type": "markdown",
   "metadata": {},
   "source": [
    "#### 1. Crie um array com 4 linhas e 3 colunas com valores aleatórios."
   ]
  },
  {
   "cell_type": "code",
   "execution_count": 9,
   "metadata": {},
   "outputs": [
    {
     "data": {
      "text/plain": [
       "array([[0.0055215 , 0.93391626, 0.51561687],\n",
       "       [0.70256336, 0.14882572, 0.5806659 ],\n",
       "       [0.63278599, 0.699132  , 0.27065177],\n",
       "       [0.4482313 , 0.31734118, 0.03077411]])"
      ]
     },
     "execution_count": 9,
     "metadata": {},
     "output_type": "execute_result"
    }
   ],
   "source": [
    "array1 = np.random.random((4, 3))\n",
    "array1"
   ]
  },
  {
   "cell_type": "markdown",
   "metadata": {},
   "source": [
    "#### 2. Crie um array com valores inteiros, 3 linhas e 5 colunas com valores aleatórios"
   ]
  },
  {
   "cell_type": "code",
   "execution_count": 10,
   "metadata": {},
   "outputs": [
    {
     "data": {
      "text/plain": [
       "array([[13, 23,  8, 68, 10],\n",
       "       [17, 11, 74,  6, 15],\n",
       "       [98, 50, 95, 74, 79]])"
      ]
     },
     "execution_count": 10,
     "metadata": {},
     "output_type": "execute_result"
    }
   ],
   "source": [
    "array2 = np.random.randint(0, 100, size=(3, 5))\n",
    "array2"
   ]
  },
  {
   "cell_type": "markdown",
   "metadata": {},
   "source": [
    "#### 3. Crie um array com 5 colunas e 10 linhas inicializados com zeros"
   ]
  },
  {
   "cell_type": "code",
   "execution_count": 11,
   "metadata": {},
   "outputs": [
    {
     "data": {
      "text/plain": [
       "array([[0., 0., 0., 0., 0.],\n",
       "       [0., 0., 0., 0., 0.],\n",
       "       [0., 0., 0., 0., 0.],\n",
       "       [0., 0., 0., 0., 0.],\n",
       "       [0., 0., 0., 0., 0.],\n",
       "       [0., 0., 0., 0., 0.],\n",
       "       [0., 0., 0., 0., 0.],\n",
       "       [0., 0., 0., 0., 0.],\n",
       "       [0., 0., 0., 0., 0.],\n",
       "       [0., 0., 0., 0., 0.]])"
      ]
     },
     "execution_count": 11,
     "metadata": {},
     "output_type": "execute_result"
    }
   ],
   "source": [
    "array3 = np.zeros((10, 5))\n",
    "array3"
   ]
  },
  {
   "cell_type": "markdown",
   "metadata": {},
   "source": [
    "#### 4. Crie um array que vá entre 0 e 90, pulando de 4 em 4"
   ]
  },
  {
   "cell_type": "code",
   "execution_count": 12,
   "metadata": {},
   "outputs": [
    {
     "data": {
      "text/plain": [
       "array([ 0,  4,  8, 12, 16, 20, 24, 28, 32, 36, 40, 44, 48, 52, 56, 60, 64,\n",
       "       68, 72, 76, 80, 84, 88])"
      ]
     },
     "execution_count": 12,
     "metadata": {},
     "output_type": "execute_result"
    }
   ],
   "source": [
    "array4 = np.arange(0, 91, 4)\n",
    "array4"
   ]
  },
  {
   "cell_type": "markdown",
   "metadata": {},
   "source": [
    "#### 5. Reduza o array (5, 7) a apenas uma dimensão"
   ]
  },
  {
   "cell_type": "code",
   "execution_count": 13,
   "metadata": {},
   "outputs": [
    {
     "data": {
      "text/plain": [
       "array([0.98972826, 0.89109393, 0.13010076, 0.81784001, 0.09561772,\n",
       "       0.98600436, 0.16018409, 0.99810638, 0.64699426, 0.85597069,\n",
       "       0.58624689, 0.68248703, 0.68088352, 0.31107228, 0.89717762,\n",
       "       0.92391844, 0.07214423, 0.37768207, 0.62252017, 0.63202398,\n",
       "       0.04964939, 0.9739533 , 0.16032038, 0.73909062, 0.26528516,\n",
       "       0.52340901, 0.54999517, 0.15537528, 0.46455972, 0.96733121,\n",
       "       0.285744  , 0.49973616, 0.08164801, 0.62492292, 0.8530298 ])"
      ]
     },
     "execution_count": 13,
     "metadata": {},
     "output_type": "execute_result"
    }
   ],
   "source": [
    "array5 = np.random.random((5, 7))\n",
    "array5_flat = array5.flatten()\n",
    "array5_flat"
   ]
  },
  {
   "cell_type": "markdown",
   "metadata": {},
   "source": [
    "#### 6. Crie um array que representa a cartilha do jogo de bingo\n",
    "#####   Cada cartela tem 12 números variando de 1 a 30, e há 10 participantes"
   ]
  },
  {
   "cell_type": "code",
   "execution_count": 17,
   "metadata": {},
   "outputs": [
    {
     "data": {
      "text/plain": [
       "array([[[23, 16, 10],\n",
       "        [24, 20,  1],\n",
       "        [ 6,  3, 21],\n",
       "        [21,  1, 29]],\n",
       "\n",
       "       [[ 9, 27, 27],\n",
       "        [28,  9, 24],\n",
       "        [ 2,  9, 17],\n",
       "        [ 5, 21,  8]],\n",
       "\n",
       "       [[ 4, 11, 29],\n",
       "        [17, 14, 13],\n",
       "        [ 8, 27, 25],\n",
       "        [ 2,  8, 27]],\n",
       "\n",
       "       [[ 6, 24, 18],\n",
       "        [ 4, 22, 25],\n",
       "        [ 2, 28, 16],\n",
       "        [11, 17, 21]],\n",
       "\n",
       "       [[ 5,  7, 29],\n",
       "        [29, 27, 24],\n",
       "        [10, 14, 30],\n",
       "        [20, 26, 24]],\n",
       "\n",
       "       [[19,  7, 27],\n",
       "        [10, 24,  3],\n",
       "        [12, 11,  8],\n",
       "        [25,  7, 14]],\n",
       "\n",
       "       [[17,  5, 15],\n",
       "        [12, 22, 12],\n",
       "        [11, 18,  7],\n",
       "        [ 7, 15, 22]],\n",
       "\n",
       "       [[22, 23,  2],\n",
       "        [23,  3, 18],\n",
       "        [21, 30,  4],\n",
       "        [19, 14,  3]],\n",
       "\n",
       "       [[ 9,  7, 12],\n",
       "        [11, 26, 16],\n",
       "        [ 2, 12, 22],\n",
       "        [19, 23, 19]],\n",
       "\n",
       "       [[25, 25, 26],\n",
       "        [22, 12, 20],\n",
       "        [20, 25, 28],\n",
       "        [19, 15, 15]]])"
      ]
     },
     "execution_count": 17,
     "metadata": {},
     "output_type": "execute_result"
    }
   ],
   "source": [
    "cartelas = np.random.randint(1, 31, size=(10, 4, 3))\n",
    "cartelas"
   ]
  },
  {
   "cell_type": "markdown",
   "metadata": {},
   "source": [
    "#### 7. Faça reshapes das cartelas para que haja 5 cartelas de 4 linhas e 6 colunas"
   ]
  },
  {
   "cell_type": "code",
   "execution_count": 15,
   "metadata": {},
   "outputs": [
    {
     "data": {
      "text/plain": [
       "array([[[ 7,  7, 27, 24,  9,  7],\n",
       "        [ 4,  4, 15, 27, 27, 11],\n",
       "        [ 4, 30, 19, 19,  2, 26],\n",
       "        [22,  6, 20,  3, 20, 24]],\n",
       "\n",
       "       [[21,  6, 30, 20, 27, 17],\n",
       "        [ 1, 21, 27, 28,  2,  3],\n",
       "        [29, 14, 26, 20, 16, 24],\n",
       "        [26, 24,  3,  3, 23, 13]],\n",
       "\n",
       "       [[14,  6, 13, 13, 17, 11],\n",
       "        [18,  8,  2,  8,  9, 12],\n",
       "        [19, 20, 26, 28,  9, 26],\n",
       "        [25, 29, 20, 11, 19, 18]],\n",
       "\n",
       "       [[ 2, 16, 23, 23, 23,  3],\n",
       "        [14, 24,  3, 11, 10, 22],\n",
       "        [ 7, 26, 13, 17, 20,  1],\n",
       "        [ 4, 30, 13, 24, 28, 14]],\n",
       "\n",
       "       [[ 3,  9, 30, 20, 29, 27],\n",
       "        [18, 27, 17, 22, 16, 13],\n",
       "        [15,  4, 16, 28,  4, 17],\n",
       "        [21, 20, 25, 16, 28, 14]]])"
      ]
     },
     "execution_count": 15,
     "metadata": {},
     "output_type": "execute_result"
    }
   ],
   "source": [
    "cartelas_reshaped = cartelas.reshape((5, 4, 6))\n",
    "cartelas_reshaped"
   ]
  },
  {
   "cell_type": "markdown",
   "metadata": {},
   "source": [
    "## Manipulando Arrays\n",
    "\n",
    "### 1.Explorando Ecossistemas:\n",
    "Como bióloga marinha,me encontrei em uma expedição nas profundezas do Oceano Pacífico,onde estávamos estudando a biodiversidade e a saúde dos recifes de coral.O catálogo abaixo demonstra dados das espécies encontradas, considere a seguinte ordem de colunas:\n",
    "\n",
    "- ID da espécie\n",
    "- Quantidade de representantes encontrados\n",
    "- Profundeza\n",
    "- Tamanho médio da espécie"
   ]
  },
  {
   "cell_type": "code",
   "execution_count": 3,
   "metadata": {},
   "outputs": [
    {
     "data": {
      "text/plain": [
       "array([[747,  89,  33,   5],\n",
       "       [623, 123,  32,  13],\n",
       "       [501,  22,  49,   2],\n",
       "       [116, 101,  42,  10],\n",
       "       [297,  56,  69,  22],\n",
       "       [613,  64,  27,   7],\n",
       "       [295,  84,  29,  14],\n",
       "       [692, 105,  72,  16],\n",
       "       [229, 103,  35,   5],\n",
       "       [374, 124,  70,   1]])"
      ]
     },
     "execution_count": 3,
     "metadata": {},
     "output_type": "execute_result"
    }
   ],
   "source": [
    "# Dados\n",
    "\n",
    "especies = np.array([[747,  89,  33,   5],\n",
    "                    [623, 123,  32,  13],\n",
    "                    [501,  22,  49,   2],\n",
    "                    [116, 101,  42,  10],\n",
    "                    [297,  56,  69,  22],\n",
    "                    [613,  64,  27,   7],\n",
    "                    [295,  84,  29,  14],\n",
    "                    [692, 105,  72,  16],\n",
    "                    [229, 103,  35,   5],\n",
    "                    [374, 124,  70,   1]])\n",
    "especies"
   ]
  },
  {
   "cell_type": "markdown",
   "metadata": {},
   "source": [
    "#### a. Selecione a segunda coluna com a quantidade de espécies encontradas e adicione em um array as qtd_especies\n"
   ]
  },
  {
   "cell_type": "code",
   "execution_count": 7,
   "metadata": {},
   "outputs": [
    {
     "data": {
      "text/plain": [
       "array([ 89, 123,  22, 101,  56,  64,  84, 105, 103, 124])"
      ]
     },
     "execution_count": 7,
     "metadata": {},
     "output_type": "execute_result"
    }
   ],
   "source": [
    "qtd_especies = especies[:,1]\n",
    "qtd_especies"
   ]
  },
  {
   "cell_type": "markdown",
   "metadata": {},
   "source": [
    "#### b. De qtd_especies selecione apenas as primeiras 3 quantidades e print"
   ]
  },
  {
   "cell_type": "code",
   "execution_count": 9,
   "metadata": {},
   "outputs": [
    {
     "name": "stdout",
     "output_type": "stream",
     "text": [
      "[ 89 123  22]\n"
     ]
    }
   ],
   "source": [
    "print(qtd_especies[0:3])"
   ]
  },
  {
   "cell_type": "markdown",
   "metadata": {},
   "source": [
    "#### c. Print as 5 últimas quantidades de espécies"
   ]
  },
  {
   "cell_type": "code",
   "execution_count": 14,
   "metadata": {},
   "outputs": [
    {
     "name": "stdout",
     "output_type": "stream",
     "text": [
      "[ 64  84 105 103 124]\n"
     ]
    }
   ],
   "source": [
    "print(qtd_especies[-5:])  #É só colocar a quantidade e o negativo"
   ]
  },
  {
   "cell_type": "markdown",
   "metadata": {},
   "source": [
    "#### d. Crie um array que contenha apenas os tamanhos das espécies e ordene por ordem crescente"
   ]
  },
  {
   "cell_type": "code",
   "execution_count": 28,
   "metadata": {},
   "outputs": [
    {
     "data": {
      "text/plain": [
       "array([ 1,  2,  5,  5,  7, 10, 13, 14, 16, 22])"
      ]
     },
     "execution_count": 28,
     "metadata": {},
     "output_type": "execute_result"
    }
   ],
   "source": [
    "tamanho = np.sort(especies[:, 3])\n",
    "tamanho\n",
    "\n",
    "# np.sort(especies[:, 3])[::-1] #caso queira decrescente"
   ]
  },
  {
   "cell_type": "markdown",
   "metadata": {},
   "source": [
    "### 2. Ainda usando o Array de espécies marítimas:\n",
    "\n",
    "#### a. Usando um index booleano crie um array que contém os dados da maior espécie encontrada (considerando o seu tamanho), esse valor corresponde ao valor 22"
   ]
  },
  {
   "cell_type": "code",
   "execution_count": 29,
   "metadata": {},
   "outputs": [
    {
     "data": {
      "text/plain": [
       "array([[747,  89,  33,   1],\n",
       "       [623, 123,  32,   2],\n",
       "       [501,  22,  49,   5],\n",
       "       [116, 101,  42,   5],\n",
       "       [297,  56,  69,   7],\n",
       "       [613,  64,  27,  10],\n",
       "       [295,  84,  29,  13],\n",
       "       [692, 105,  72,  14],\n",
       "       [229, 103,  35,  16],\n",
       "       [374, 124,  70,  22]])"
      ]
     },
     "execution_count": 29,
     "metadata": {},
     "output_type": "execute_result"
    }
   ],
   "source": [
    "especies"
   ]
  },
  {
   "cell_type": "code",
   "execution_count": 32,
   "metadata": {},
   "outputs": [
    {
     "data": {
      "text/plain": [
       "array([False, False, False, False, False, False, False, False, False,\n",
       "        True])"
      ]
     },
     "execution_count": 32,
     "metadata": {},
     "output_type": "execute_result"
    }
   ],
   "source": [
    "maior_especies = especies[:, 3] == 22 #para me retornar apenas a linha da espécie 22\n",
    "maior_especies"
   ]
  },
  {
   "cell_type": "markdown",
   "metadata": {},
   "source": [
    "#### b. Usando fency index faça um array que contém apenas dados da espécie com ID 297"
   ]
  },
  {
   "cell_type": "code",
   "execution_count": 35,
   "metadata": {},
   "outputs": [
    {
     "data": {
      "text/plain": [
       "array([[297,  56,  69,   7]])"
      ]
     },
     "execution_count": 35,
     "metadata": {},
     "output_type": "execute_result"
    }
   ],
   "source": [
    "mask_297 = especies[:,0] == 297\n",
    "especies[mask_297]"
   ]
  },
  {
   "cell_type": "markdown",
   "metadata": {},
   "source": [
    "\n",
    "#### c. Usando np.where() faça um array com a linha com dados correspondentes a espécie com 105 representantes encontrados"
   ]
  },
  {
   "cell_type": "code",
   "execution_count": 37,
   "metadata": {},
   "outputs": [
    {
     "data": {
      "text/plain": [
       "array([[692, 105,  72,  14]])"
      ]
     },
     "execution_count": 37,
     "metadata": {},
     "output_type": "execute_result"
    }
   ],
   "source": [
    "especie_105 = np.where(especies[:,1] == 105)\n",
    "especies[especie_105]"
   ]
  },
  {
   "cell_type": "markdown",
   "metadata": {},
   "source": [
    "#### d. Considere a profundeza em que o espécie foi encontrada substitua valores maiores que 60 com \"Profundo\""
   ]
  },
  {
   "cell_type": "code",
   "execution_count": 40,
   "metadata": {},
   "outputs": [
    {
     "data": {
      "text/plain": [
       "array(['33', '32', '49', '42', 'Profundo', '27', '29', 'Profundo', '35',\n",
       "       'Profundo'], dtype='<U11')"
      ]
     },
     "execution_count": 40,
     "metadata": {},
     "output_type": "execute_result"
    }
   ],
   "source": [
    "mask_60 = np.where(especies[:,2] > 60, \"Profundo\", especies[:,2])\n",
    "mask_60"
   ]
  },
  {
   "cell_type": "markdown",
   "metadata": {},
   "source": [
    "### 3. Ainda no conjunto 'especies':\n",
    "#### a. Adicione mais 2 espécies ao array: [[204, 10, 40, 12], [392, 11, 81, 11]]"
   ]
  },
  {
   "cell_type": "code",
   "execution_count": 44,
   "metadata": {},
   "outputs": [
    {
     "data": {
      "text/plain": [
       "array([[204,  10,  40,  12],\n",
       "       [392,  11,  81,  11]])"
      ]
     },
     "execution_count": 44,
     "metadata": {},
     "output_type": "execute_result"
    }
   ],
   "source": [
    "novas_especies = np.array([[204, 10, 40, 12], [392, 11, 81, 11]])\n",
    "novas_especies"
   ]
  },
  {
   "cell_type": "code",
   "execution_count": 45,
   "metadata": {},
   "outputs": [
    {
     "data": {
      "text/plain": [
       "array([[747,  89,  33,   1],\n",
       "       [623, 123,  32,   2],\n",
       "       [501,  22,  49,   5],\n",
       "       [116, 101,  42,   5],\n",
       "       [297,  56,  69,   7],\n",
       "       [613,  64,  27,  10],\n",
       "       [295,  84,  29,  13],\n",
       "       [692, 105,  72,  14],\n",
       "       [229, 103,  35,  16],\n",
       "       [374, 124,  70,  22],\n",
       "       [204,  10,  40,  12],\n",
       "       [392,  11,  81,  11]])"
      ]
     },
     "execution_count": 45,
     "metadata": {},
     "output_type": "execute_result"
    }
   ],
   "source": [
    "np.concatenate((especies, novas_especies))"
   ]
  },
  {
   "cell_type": "markdown",
   "metadata": {},
   "source": [
    "#### b. Adicione mais uma coluna na no array original agora com o número de espécies encontradas com que indica se o animal enxerga ou não: [0, 1, 0, 0, 0, 0, 1, 0, 1, 1, 0]"
   ]
  },
  {
   "cell_type": "code",
   "execution_count": 47,
   "metadata": {},
   "outputs": [
    {
     "data": {
      "text/plain": [
       "array([[0],\n",
       "       [1],\n",
       "       [0],\n",
       "       [0],\n",
       "       [0],\n",
       "       [0],\n",
       "       [1],\n",
       "       [0],\n",
       "       [1],\n",
       "       [1]])"
      ]
     },
     "execution_count": 47,
     "metadata": {},
     "output_type": "execute_result"
    }
   ],
   "source": [
    "ver = np.array([0, 1, 0, 0, 0, 0, 1, 0, 1, 1]).reshape((10,1))\n",
    "ver"
   ]
  },
  {
   "cell_type": "code",
   "execution_count": 50,
   "metadata": {},
   "outputs": [
    {
     "data": {
      "text/plain": [
       "array([[747,  89,  33,   1,   0],\n",
       "       [623, 123,  32,   2,   1],\n",
       "       [501,  22,  49,   5,   0],\n",
       "       [116, 101,  42,   5,   0],\n",
       "       [297,  56,  69,   7,   0],\n",
       "       [613,  64,  27,  10,   0],\n",
       "       [295,  84,  29,  13,   1],\n",
       "       [692, 105,  72,  14,   0],\n",
       "       [229, 103,  35,  16,   1],\n",
       "       [374, 124,  70,  22,   1]])"
      ]
     },
     "execution_count": 50,
     "metadata": {},
     "output_type": "execute_result"
    }
   ],
   "source": [
    "np.concatenate((especies, ver), axis = 1)"
   ]
  },
  {
   "cell_type": "markdown",
   "metadata": {},
   "source": [
    "## Cálculo com Array\n"
   ]
  },
  {
   "cell_type": "code",
   "execution_count": null,
   "metadata": {},
   "outputs": [],
   "source": [
    "# Dados\n",
    "acidentes = np.array([[1, 3, 2],\n",
    "                    [0, 1, 0],\n",
    "                    [2, 1, 4],\n",
    "                    [0, 0, 0],\n",
    "                    [1, 1, 0]])"
   ]
  },
  {
   "cell_type": "markdown",
   "metadata": {},
   "source": [
    "#### a. O cliente que teve acidente abaixo da média nos últimos 2 anos, ganhará um desconto no seu seguro. Identifique-os.\n"
   ]
  },
  {
   "cell_type": "code",
   "execution_count": null,
   "metadata": {},
   "outputs": [],
   "source": []
  },
  {
   "cell_type": "markdown",
   "metadata": {},
   "source": [
    "#### b. Qual cliente teve pelo menos 2 anos sem cometer acidentes?"
   ]
  },
  {
   "cell_type": "code",
   "execution_count": null,
   "metadata": {},
   "outputs": [],
   "source": []
  },
  {
   "cell_type": "markdown",
   "metadata": {},
   "source": [
    "#### c. Uma professora quer que seus alunos apliquem a função (3x + 2y + x*y) em um conjunto de dados. Ela dá dois arrays aos estudantes e pede que seja feita essa operação.\n"
   ]
  },
  {
   "cell_type": "code",
   "execution_count": null,
   "metadata": {},
   "outputs": [],
   "source": []
  },
  {
   "cell_type": "markdown",
   "metadata": {},
   "source": [
    "#### d. A mesma professora percebeu que houve um erro em todas as provas dos estudantes e esqueceu de anotar a nota de trabalhos apresentados durante o semestre. Já que foi feito em grupo ela vai adicionar a mesma nota para todos os estudantes. No array cada estudante representa uma linha e cada coluna uma prova. Adicione para cada prova de cada estudante os valores: 1, 2, 1."
   ]
  },
  {
   "cell_type": "code",
   "execution_count": null,
   "metadata": {},
   "outputs": [],
   "source": []
  }
 ],
 "metadata": {
  "kernelspec": {
   "display_name": "Python 3",
   "language": "python",
   "name": "python3"
  },
  "language_info": {
   "codemirror_mode": {
    "name": "ipython",
    "version": 3
   },
   "file_extension": ".py",
   "mimetype": "text/x-python",
   "name": "python",
   "nbconvert_exporter": "python",
   "pygments_lexer": "ipython3",
   "version": "3.12.1"
  }
 },
 "nbformat": 4,
 "nbformat_minor": 2
}
