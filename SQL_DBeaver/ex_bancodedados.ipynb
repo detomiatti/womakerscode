{
 "cells": [
  {
   "cell_type": "markdown",
   "metadata": {},
   "source": [
    "# Exercício Banco de Dados \n",
    "Débora Tomiatti Giancola\n",
    "\n",
    "## 1. Crie uma tabela chamada \"alunos\" com os seguintes campos: id (inteiro), nome (texto), idade (inteiro) e curso (texto)."
   ]
  },
  {
   "cell_type": "code",
   "execution_count": 1,
   "metadata": {},
   "outputs": [],
   "source": [
    "import sqlite3\n",
    "conexao = sqlite3.connect('banco_sql')\n",
    "cursor = conexao.cursor() "
   ]
  },
  {
   "cell_type": "code",
   "execution_count": 2,
   "metadata": {},
   "outputs": [
    {
     "data": {
      "text/plain": [
       "<sqlite3.Cursor at 0x1d2f1b90b40>"
      ]
     },
     "execution_count": 2,
     "metadata": {},
     "output_type": "execute_result"
    }
   ],
   "source": [
    "#cursor.execute('CREATE TABLE alunos(id INT, nome VARCHAR(100), idade INT, curso VARCHAR(100))')"
   ]
  },
  {
   "cell_type": "code",
   "execution_count": 24,
   "metadata": {},
   "outputs": [],
   "source": [
    "conexao.commit() "
   ]
  },
  {
   "cell_type": "markdown",
   "metadata": {},
   "source": [
    "## 2. Insira pelo menos 5 registros de alunos na tabela que você criou no exercício anterior."
   ]
  },
  {
   "cell_type": "code",
   "execution_count": 5,
   "metadata": {},
   "outputs": [
    {
     "data": {
      "text/plain": [
       "<sqlite3.Cursor at 0x1d2f1b90b40>"
      ]
     },
     "execution_count": 5,
     "metadata": {},
     "output_type": "execute_result"
    }
   ],
   "source": [
    "#cursor.execute('INSERT INTO alunos(id,nome,idade,curso) VALUES(1,\"Marcia\", 19,\"Biologia\")')\n",
    "#cursor.execute('INSERT INTO alunos(id,nome,idade,curso) VALUES(2,\"Pedro\", 20, \"Letras\")')\n",
    "#cursor.execute('INSERT INTO alunos(id,nome,idade,curso) VALUES(3,\"Ana\", 21, \"Geologia\")')\n",
    "#cursor.execute('INSERT INTO alunos(id,nome,idade,curso) VALUES(4,\"Julia\", 24, \"Medicina\")')\n",
    "#cursor.execute('INSERT INTO alunos(id,nome,idade,curso) VALUES(5,\"Debora\", 22, \"Jornalismo\")')"
   ]
  },
  {
   "cell_type": "markdown",
   "metadata": {},
   "source": [
    "## 3. Consultas Básicas - Escreva consultas SQL para realizar as seguintes tarefas:\n",
    "\n",
    "### a) Selecionar todos os registros da tabela \"alunos\"."
   ]
  },
  {
   "cell_type": "code",
   "execution_count": 8,
   "metadata": {},
   "outputs": [
    {
     "name": "stdout",
     "output_type": "stream",
     "text": [
      "(1, 'Marcia', 19, 'Biologia')\n",
      "(2, 'Pedro', 20, 'Letras')\n",
      "(3, 'Ana', 21, 'Geologia')\n",
      "(4, 'Julia', 24, 'Medicina')\n",
      "(5, 'Debora', 22, 'Jornalismo')\n"
     ]
    }
   ],
   "source": [
    "selecao = cursor.execute('SELECT * FROM alunos') \n",
    "for alunos in selecao:  \n",
    "    print(alunos)"
   ]
  },
  {
   "cell_type": "markdown",
   "metadata": {},
   "source": [
    "### b) Selecionar o nome e a idade dos alunos com mais de 20 anos."
   ]
  },
  {
   "cell_type": "code",
   "execution_count": 9,
   "metadata": {},
   "outputs": [
    {
     "name": "stdout",
     "output_type": "stream",
     "text": [
      "('Ana', 21)\n",
      "('Julia', 24)\n",
      "('Debora', 22)\n"
     ]
    }
   ],
   "source": [
    "selecao = cursor.execute('SELECT nome,idade FROM alunos WHERE idade>20') \n",
    "for alunos in selecao:  \n",
    "    print(alunos)"
   ]
  },
  {
   "cell_type": "markdown",
   "metadata": {},
   "source": [
    "### c) Selecionar os alunos do curso de \"Geologia\" em ordem alfabética."
   ]
  },
  {
   "cell_type": "code",
   "execution_count": 13,
   "metadata": {},
   "outputs": [
    {
     "name": "stdout",
     "output_type": "stream",
     "text": [
      "(3, 'Ana', 21, 'Geologia')\n"
     ]
    }
   ],
   "source": [
    "selecao = cursor.execute('SELECT * FROM alunos GROUP BY curso HAVING curso=\"Geologia\" ORDER BY nome') \n",
    "for alunos in selecao:  \n",
    "    print(alunos)"
   ]
  },
  {
   "cell_type": "markdown",
   "metadata": {},
   "source": [
    "### d) Contar o número total de alunos na tabela"
   ]
  },
  {
   "cell_type": "code",
   "execution_count": 15,
   "metadata": {},
   "outputs": [
    {
     "name": "stdout",
     "output_type": "stream",
     "text": [
      "(5,)\n"
     ]
    }
   ],
   "source": [
    "selecao = cursor.execute('SELECT COUNT (*) AS total_alunos FROM alunos') \n",
    "for alunos in selecao:  \n",
    "    print(alunos)"
   ]
  },
  {
   "cell_type": "markdown",
   "metadata": {},
   "source": [
    "## 4. Atualização e Remoção\n",
    "\n",
    "### a) Atualize a idade de um aluno específico na tabela."
   ]
  },
  {
   "cell_type": "code",
   "execution_count": 16,
   "metadata": {},
   "outputs": [
    {
     "data": {
      "text/plain": [
       "<sqlite3.Cursor at 0x1d2f1b90b40>"
      ]
     },
     "execution_count": 16,
     "metadata": {},
     "output_type": "execute_result"
    }
   ],
   "source": [
    "#cursor.execute('UPDATE alunos SET idade=27 WHERE nome=\"Pedro\"') "
   ]
  },
  {
   "cell_type": "markdown",
   "metadata": {},
   "source": [
    "### b) Remova um aluno pelo seu ID."
   ]
  },
  {
   "cell_type": "code",
   "execution_count": 18,
   "metadata": {},
   "outputs": [
    {
     "data": {
      "text/plain": [
       "<sqlite3.Cursor at 0x1d2f1b90b40>"
      ]
     },
     "execution_count": 18,
     "metadata": {},
     "output_type": "execute_result"
    }
   ],
   "source": [
    "#cursor.execute('DELETE FROM alunos WHERE id=1') "
   ]
  },
  {
   "cell_type": "markdown",
   "metadata": {},
   "source": [
    "## 5. Criar uma Tabela e Inserir Dados\n",
    "### Crie uma tabela chamada \"clientes\" com os campos: id (chave primária), nome (texto), idade (inteiro) e saldo (float). Insira alguns registros de clientes na tabela."
   ]
  },
  {
   "cell_type": "code",
   "execution_count": 21,
   "metadata": {},
   "outputs": [
    {
     "data": {
      "text/plain": [
       "<sqlite3.Cursor at 0x1d2f1b90b40>"
      ]
     },
     "execution_count": 21,
     "metadata": {},
     "output_type": "execute_result"
    }
   ],
   "source": [
    "#cursor.execute('CREATE TABLE clientes(id INT, nome VARCHAR(100), idade INT, saldo FLOAT)')"
   ]
  },
  {
   "cell_type": "code",
   "execution_count": 23,
   "metadata": {},
   "outputs": [
    {
     "data": {
      "text/plain": [
       "<sqlite3.Cursor at 0x1d2f1b90b40>"
      ]
     },
     "execution_count": 23,
     "metadata": {},
     "output_type": "execute_result"
    }
   ],
   "source": [
    "#cursor.execute('INSERT INTO clientes(id,nome,idade,saldo) VALUES(1,\"Joao\", 29, 1203)')\n",
    "#cursor.execute('INSERT INTO clientes(id,nome,idade,saldo) VALUES(2,\"Pietra\", 31, 140)')\n",
    "#cursor.execute('INSERT INTO clientes(id,nome,idade,saldo) VALUES(3,\"Babi\", 26, 2056)')\n",
    "#cursor.execute('INSERT INTO clientes(id,nome,idade,saldo) VALUES(4,\"Pati\", 34, 1001)')"
   ]
  },
  {
   "cell_type": "markdown",
   "metadata": {},
   "source": [
    "## 6. Consultas e Funções Agregadas - Escreva consultas SQL para realizar as seguintes tarefas:\n",
    "\n",
    "### a) Selecione o nome e a idade dos clientes com idade superior a 30 anos."
   ]
  },
  {
   "cell_type": "code",
   "execution_count": 27,
   "metadata": {},
   "outputs": [
    {
     "name": "stdout",
     "output_type": "stream",
     "text": [
      "('Pietra', 31)\n",
      "('Pati', 34)\n"
     ]
    }
   ],
   "source": [
    "selecao = cursor.execute('SELECT nome, idade FROM clientes WHERE idade>30')\n",
    "for clientes in selecao:  \n",
    "    print(clientes)"
   ]
  },
  {
   "cell_type": "markdown",
   "metadata": {},
   "source": [
    "### b) Calcule o saldo médio dos clientes."
   ]
  },
  {
   "cell_type": "code",
   "execution_count": 28,
   "metadata": {},
   "outputs": [
    {
     "name": "stdout",
     "output_type": "stream",
     "text": [
      "(1100.0,)\n"
     ]
    }
   ],
   "source": [
    "selecao = cursor.execute('SELECT AVG(saldo) FROM clientes')\n",
    "for clientes in selecao:  \n",
    "    print(clientes)"
   ]
  },
  {
   "cell_type": "markdown",
   "metadata": {},
   "source": [
    "### c) Encontre o cliente com o saldo máximo."
   ]
  },
  {
   "cell_type": "code",
   "execution_count": 29,
   "metadata": {},
   "outputs": [
    {
     "name": "stdout",
     "output_type": "stream",
     "text": [
      "(2056.0,)\n"
     ]
    }
   ],
   "source": [
    "selecao = cursor.execute('SELECT MAX(saldo) FROM clientes')\n",
    "for clientes in selecao:  \n",
    "    print(clientes)"
   ]
  },
  {
   "cell_type": "markdown",
   "metadata": {},
   "source": [
    "### d) Conte quantos clientes têm saldo acima de 1000."
   ]
  },
  {
   "cell_type": "code",
   "execution_count": 31,
   "metadata": {},
   "outputs": [
    {
     "name": "stdout",
     "output_type": "stream",
     "text": [
      "(3,)\n"
     ]
    }
   ],
   "source": [
    "selecao = cursor.execute('SELECT COUNT (*) FROM clientes WHERE saldo>1000')\n",
    "for clientes in selecao:  \n",
    "    print(clientes)"
   ]
  },
  {
   "cell_type": "markdown",
   "metadata": {},
   "source": [
    "## 7. Atualização e Remoção com Condições\n",
    "\n",
    "### a) Atualize o saldo de um cliente específico."
   ]
  },
  {
   "cell_type": "code",
   "execution_count": 33,
   "metadata": {},
   "outputs": [
    {
     "data": {
      "text/plain": [
       "<sqlite3.Cursor at 0x1d2f1b90b40>"
      ]
     },
     "execution_count": 33,
     "metadata": {},
     "output_type": "execute_result"
    }
   ],
   "source": [
    "#cursor.execute('UPDATE clientes SET saldo=520 WHERE nome=\"Pietra\"')"
   ]
  },
  {
   "cell_type": "markdown",
   "metadata": {},
   "source": [
    "### b) Remova um cliente pelo seu ID."
   ]
  },
  {
   "cell_type": "code",
   "execution_count": 35,
   "metadata": {},
   "outputs": [
    {
     "data": {
      "text/plain": [
       "<sqlite3.Cursor at 0x1d2f1b90b40>"
      ]
     },
     "execution_count": 35,
     "metadata": {},
     "output_type": "execute_result"
    }
   ],
   "source": [
    "#cursor.execute('DELETE FROM clientes WHERE id=2')"
   ]
  },
  {
   "cell_type": "markdown",
   "metadata": {},
   "source": [
    "## 8. Junção de Tabelas\n",
    "### Crie uma tabela chamada \"compras\" com os campos: id (chave primária), cliente_id (chave estrangeira referenciando o id da tabela \"clientes\"), produto (texto) e valor (real). Insira algumas compras associadas a clientes existentes na tabela \"clientes\". Escreva uma consulta para exibir o nome do cliente, o produto e o valor de cada compra."
   ]
  },
  {
   "cell_type": "code",
   "execution_count": 38,
   "metadata": {},
   "outputs": [
    {
     "data": {
      "text/plain": [
       "<sqlite3.Cursor at 0x1d2f1b90b40>"
      ]
     },
     "execution_count": 38,
     "metadata": {},
     "output_type": "execute_result"
    }
   ],
   "source": [
    "# Criar a tabela\n",
    "#cursor.execute('CREATE TABLE compras(id INT, cliente_id INT, produto VARCHAR(100), valor REAL, FOREIGN KEY(cliente_id) REFERENCES clientes(id))')"
   ]
  },
  {
   "cell_type": "code",
   "execution_count": 42,
   "metadata": {},
   "outputs": [
    {
     "data": {
      "text/plain": [
       "<sqlite3.Cursor at 0x1d2f1b90b40>"
      ]
     },
     "execution_count": 42,
     "metadata": {},
     "output_type": "execute_result"
    }
   ],
   "source": [
    "# Compras dos clientes\n",
    "cursor.execute('INSERT INTO compras(cliente_id, produto, valor) VALUES (1, \"Camiseta\", 30.00),(2, \"Calça\", 50.00),(3, \"Tênis\", 75.00)')"
   ]
  },
  {
   "cell_type": "code",
   "execution_count": 44,
   "metadata": {},
   "outputs": [
    {
     "name": "stdout",
     "output_type": "stream",
     "text": [
      "Cliente: Joao\n",
      "Produto: Camiseta\n",
      "Valor: 30.0\n",
      "---\n",
      "Cliente: Babi\n",
      "Produto: Tênis\n",
      "Valor: 75.0\n",
      "---\n"
     ]
    }
   ],
   "source": [
    "# Consulta de cliente\n",
    "consulta = cursor.execute('SELECT c.nome, co.produto, co.valor FROM compras co INNER JOIN clientes c ON co.cliente_id = c.id')\n",
    "\n",
    "# Exibir os resultados da consulta\n",
    "for linha in consulta:\n",
    "    print('Cliente:', linha[0])\n",
    "    print('Produto:', linha[1])\n",
    "    print('Valor:', linha[2])\n",
    "    print('---')"
   ]
  },
  {
   "cell_type": "code",
   "execution_count": 45,
   "metadata": {},
   "outputs": [],
   "source": [
    "conexao.close()"
   ]
  }
 ],
 "metadata": {
  "kernelspec": {
   "display_name": "Python 3",
   "language": "python",
   "name": "python3"
  },
  "language_info": {
   "codemirror_mode": {
    "name": "ipython",
    "version": 3
   },
   "file_extension": ".py",
   "mimetype": "text/x-python",
   "name": "python",
   "nbconvert_exporter": "python",
   "pygments_lexer": "ipython3",
   "version": "3.12.1"
  }
 },
 "nbformat": 4,
 "nbformat_minor": 2
}
