{
 "cells": [
  {
   "cell_type": "markdown",
   "metadata": {},
   "source": [
    "Nessa introdução ao SQL, faremos a conexão de um banco de dados que será criado nesse ambiente, ao DBeaver, um programa de banco de dados usando SQLite\n",
    "\n",
    "Para começar, devemos criar no DBeaver um arquivo na mesma pasta que este 'conexao_sql.ipynb' e então importar a biblioteca que fará a conexão"
   ]
  },
  {
   "cell_type": "code",
   "execution_count": 1,
   "metadata": {},
   "outputs": [],
   "source": [
    "import sqlite3"
   ]
  },
  {
   "cell_type": "code",
   "execution_count": 6,
   "metadata": {},
   "outputs": [],
   "source": [
    "conexao = sqlite3.connect('banco_sql') #importa o banco de dados TEM QUE ESTAR NA MESMA PASTA"
   ]
  },
  {
   "cell_type": "code",
   "execution_count": 7,
   "metadata": {},
   "outputs": [],
   "source": [
    "cursor = conexao.cursor() #passando para uma nova variável"
   ]
  },
  {
   "cell_type": "markdown",
   "metadata": {},
   "source": [
    "Para CRIAR uma tabela, começamos com 'CREATE TABLE'"
   ]
  },
  {
   "cell_type": "code",
   "execution_count": 4,
   "metadata": {},
   "outputs": [
    {
     "data": {
      "text/plain": [
       "<sqlite3.Cursor at 0x27104597b40>"
      ]
     },
     "execution_count": 4,
     "metadata": {},
     "output_type": "execute_result"
    }
   ],
   "source": [
    "#cursor.execute('CREATE TABLE usuario(id INT, nome VARCHAR(100), endereco VARCHAR(100), email VARCHAR(100))')"
   ]
  },
  {
   "cell_type": "markdown",
   "metadata": {},
   "source": [
    "Se queremos alterar algo da tabela, utilizamos o 'ALTER TABLE'"
   ]
  },
  {
   "cell_type": "code",
   "execution_count": null,
   "metadata": {},
   "outputs": [],
   "source": [
    "#cursor.execute('ALTER TABLE usuario RENAME TO usuarios') #alterar o nome da tabela"
   ]
  },
  {
   "cell_type": "code",
   "execution_count": 9,
   "metadata": {},
   "outputs": [
    {
     "data": {
      "text/plain": [
       "<sqlite3.Cursor at 0x27104893c40>"
      ]
     },
     "execution_count": 9,
     "metadata": {},
     "output_type": "execute_result"
    }
   ],
   "source": [
    "#cursor.execute('ALTER TABLE usuario ADD COLUMN telefone INT') #adicionando uma coluna\n",
    "#cursor.execute('ALTER TABLE usuario RENAME COLUMN telefoni TO telefone')  #alterar o nome de uma coluna"
   ]
  },
  {
   "cell_type": "markdown",
   "metadata": {},
   "source": [
    "Um dos comandos mais utilizados é o de excluir tabelas, usando o DROP"
   ]
  },
  {
   "cell_type": "code",
   "execution_count": null,
   "metadata": {},
   "outputs": [],
   "source": [
    "#cursor.execute('DROP TABLE usuario')   #ATENÇÃO não será possível recuperar a tabela"
   ]
  },
  {
   "cell_type": "markdown",
   "metadata": {},
   "source": [
    "Para inserir dados dentro de uma tabela"
   ]
  },
  {
   "cell_type": "code",
   "execution_count": 4,
   "metadata": {},
   "outputs": [
    {
     "data": {
      "text/plain": [
       "<sqlite3.Cursor at 0x1b730bcaf40>"
      ]
     },
     "execution_count": 4,
     "metadata": {},
     "output_type": "execute_result"
    }
   ],
   "source": [
    "#cursor.execute('INSERT INTO usuario(id,nome,endereco,email, telefone) VALUES(1,\"Isadora\", \"França\", \"isa@gmail.com\", 12345)')"
   ]
  },
  {
   "cell_type": "code",
   "execution_count": 31,
   "metadata": {},
   "outputs": [
    {
     "data": {
      "text/plain": [
       "<sqlite3.Cursor at 0x1b730b99540>"
      ]
     },
     "execution_count": 31,
     "metadata": {},
     "output_type": "execute_result"
    }
   ],
   "source": [
    "#cursor.execute('INSERT INTO usuario(id,nome,endereco,email, telefone) VALUES(2,\"Jose\", \"Brasil\", \"ze@gmail.com\", 67890)')\n",
    "#cursor.execute('INSERT INTO usuario(id,nome,endereco,email, telefone) VALUES(3,\"Maria\", \"Curitiba\", \"maria@gmail.com\", 123490)')\n",
    "#cursor.execute('INSERT INTO usuario(id,nome,endereco,email, telefone) VALUES(4,\"Marcia\", \"Salvador\", \"marcia@gmail.com\", 12523490)')"
   ]
  },
  {
   "cell_type": "markdown",
   "metadata": {},
   "source": [
    "Para excluir DADOS e não a tabela, usamos DELETE"
   ]
  },
  {
   "cell_type": "code",
   "execution_count": 28,
   "metadata": {},
   "outputs": [
    {
     "data": {
      "text/plain": [
       "<sqlite3.Cursor at 0x1b730b99540>"
      ]
     },
     "execution_count": 28,
     "metadata": {},
     "output_type": "execute_result"
    }
   ],
   "source": [
    "#cursor.execute('DELETE FROM usuario where id=4')\n",
    "#cursor.execute('DELETE FROM gerentes where id=4')"
   ]
  },
  {
   "cell_type": "markdown",
   "metadata": {},
   "source": [
    "Para selecionar dados, vamos usar o SELECT. O \"*\" indica \"selecionar TUDO\""
   ]
  },
  {
   "cell_type": "code",
   "execution_count": 12,
   "metadata": {},
   "outputs": [
    {
     "name": "stdout",
     "output_type": "stream",
     "text": [
      "(2, 'Jose', 'Brasil', 'ze@gmail.com', 67890)\n",
      "(3, 'Maria', 'Curitiba', 'maria@gmail.com', 123490)\n",
      "(4, 'Marcia', 'Salvador', 'marcia@gmail.com', 12523490)\n"
     ]
    }
   ],
   "source": [
    "dados = cursor.execute('SELECT * FROM usuario')\n",
    "for usuario in dados:  #aqui precisamos unir python e sql, precisamos usar um \"for\" que aqui diz: para cada usuario em dados, faça isso: print\n",
    "    print(usuario)\n",
    "\n",
    "\n",
    "#Exemplo de seleção apenas de nomes\n",
    "    #dados = cursor.execute('SELECT nome,telefone FROM usuario')  \n",
    "    #for usuario in dados:\n",
    "    #    print(usuario)\n",
    "    print(usuario)"
   ]
  },
  {
   "cell_type": "markdown",
   "metadata": {},
   "source": [
    "Atualização de dados! Usamos o UPDATE"
   ]
  },
  {
   "cell_type": "code",
   "execution_count": 13,
   "metadata": {},
   "outputs": [
    {
     "data": {
      "text/plain": [
       "<sqlite3.Cursor at 0x1b730b99540>"
      ]
     },
     "execution_count": 13,
     "metadata": {},
     "output_type": "execute_result"
    }
   ],
   "source": [
    "#cursor.execute('UPDATE usuario SET endereco=\"Minas Gerais\" WHERE nome=\"Jose\"') "
   ]
  },
  {
   "cell_type": "markdown",
   "metadata": {},
   "source": [
    "Também é possível ordenar os dados que quero visualizar com ORDER BY\n",
    "** O DESC representa o contrário"
   ]
  },
  {
   "cell_type": "code",
   "execution_count": 15,
   "metadata": {},
   "outputs": [
    {
     "name": "stdout",
     "output_type": "stream",
     "text": [
      "(3, 'Maria', 'Curitiba', 'maria@gmail.com', 123490)\n",
      "(4, 'Marcia', 'Salvador', 'marcia@gmail.com', 12523490)\n",
      "(2, 'Jose', 'Minas Gerais', 'ze@gmail.com', 67890)\n"
     ]
    }
   ],
   "source": [
    "dados = cursor.execute('SELECT * FROM usuario ORDER BY nome DESC')\n",
    "for usuario in dados:  \n",
    "    print(usuario)\n"
   ]
  },
  {
   "cell_type": "markdown",
   "metadata": {},
   "source": [
    "Outros filtros: LIMIT para limitar as infos e DISTINCT para diferenciar"
   ]
  },
  {
   "cell_type": "code",
   "execution_count": 17,
   "metadata": {},
   "outputs": [
    {
     "name": "stdout",
     "output_type": "stream",
     "text": [
      "(2, 'Jose', 'Minas Gerais', 'ze@gmail.com', 67890)\n",
      "(3, 'Maria', 'Curitiba', 'maria@gmail.com', 123490)\n"
     ]
    }
   ],
   "source": [
    "dados = cursor.execute('SELECT * FROM usuario LIMIT 2') #Vai mostrar só 2 linhas\n",
    "for usuario in dados:  \n",
    "    print(usuario)"
   ]
  },
  {
   "cell_type": "code",
   "execution_count": null,
   "metadata": {},
   "outputs": [],
   "source": [
    "dados = cursor.execute('SELECT DISTINCT * FROM usuario LIMIT 2') #Vai mostrar só 2 linhas que sejam DIFERENTES\n",
    "for usuario in dados:  \n",
    "    print(usuario)"
   ]
  },
  {
   "cell_type": "markdown",
   "metadata": {},
   "source": [
    "Outras cláusulas: GROUP BY e o HAVING\n",
    "\n",
    "*GROUP BY não trabalha junto com o WHERE, mas sim com o HAVING"
   ]
  },
  {
   "cell_type": "code",
   "execution_count": 20,
   "metadata": {},
   "outputs": [
    {
     "name": "stdout",
     "output_type": "stream",
     "text": [
      "(4, 'Marcia')\n"
     ]
    }
   ],
   "source": [
    "dados = cursor.execute('SELECT id, nome FROM usuario GROUP BY nome HAVING id>3') #agrupamentos \n",
    "for usuario in dados:  \n",
    "    print(usuario)"
   ]
  },
  {
   "cell_type": "markdown",
   "metadata": {},
   "source": [
    "Entendendo os JOIN's -> Combinando informações de várias tabelas\n",
    "\n",
    "Right, left, Full e Inner"
   ]
  },
  {
   "cell_type": "code",
   "execution_count": 30,
   "metadata": {},
   "outputs": [
    {
     "data": {
      "text/plain": [
       "<sqlite3.Cursor at 0x1b730b99540>"
      ]
     },
     "execution_count": 30,
     "metadata": {},
     "output_type": "execute_result"
    }
   ],
   "source": [
    "#Primeiro precisamos criar uma nova tabela e colocar novas infos\n",
    "#cursor.execute('CREATE TABLE gerentes(id INT, nome VARCHAR(100), endereco VARCHAR(100), email VARCHAR(100))')\n",
    "#cursor.execute('INSERT INTO gerentes(id,nome,endereco,email) VALUES(4,\"Marcia\", \"Salvador\", \"marcia@gmail.com\")')\n",
    "#cursor.execute('INSERT INTO gerentes(id,nome,endereco,email) VALUES(5,\"Cintia\", \"Londres\", \"marcia@gmail.com\")')"
   ]
  },
  {
   "cell_type": "code",
   "execution_count": 36,
   "metadata": {},
   "outputs": [
    {
     "name": "stdout",
     "output_type": "stream",
     "text": [
      "(2, 'Jose', 'Minas Gerais', 'ze@gmail.com', 67890, None, None, None, None)\n",
      "(3, 'Maria', 'Curitiba', 'maria@gmail.com', 123490, None, None, None, None)\n",
      "(4, 'Marcia', 'Salvador', 'marcia@gmail.com', 12523490, 4, 'Marcia', 'Salvador', 'marcia@gmail.com')\n",
      "(None, None, None, None, None, 5, 'Cintia', 'Londres', 'marcia@gmail.com')\n"
     ]
    }
   ],
   "source": [
    "# INNER JOIN - Pega as linhas que tem correspondências em ambas as tabelas\n",
    "## Aqui vai selecionar os id iguais\n",
    "\n",
    "#dados = cursor.execute('SELECT * FROM usuario INNER JOIN gerentes ON usuario.id = gerentes.id') \n",
    "\n",
    "\n",
    "# LEFT JOIN - Traz todas as infos da tabela esquerda e as da tebela direita que tem correspondência\n",
    "## O que não tiver correspondência, ele irá colocar \"None\"\n",
    "\n",
    "#dados = cursor.execute('SELECT * FROM usuario LEFT JOIN gerentes ON usuario.id = gerentes.id') \n",
    "\n",
    "\n",
    "# RIGHT JOIN - O contrário do LEFT!\n",
    "#dados = cursor.execute('SELECT * FROM usuario RIGHT JOIN gerentes ON usuario.id = gerentes.id') \n",
    "\n",
    "\n",
    "# FULL JOIN - Retorna todas as linhas de todas as tabelas e compara as correspondências\n",
    "#dados = cursor.execute('SELECT * FROM usuario FULL JOIN gerentes ON usuario.id = gerentes.id') \n",
    "\n",
    "for usuario in dados:  \n",
    "    print(usuario)"
   ]
  },
  {
   "cell_type": "markdown",
   "metadata": {},
   "source": [
    "Sub-consultas - Consultas SQL que nos permite usar o resultado de uma consulta em uma segunda"
   ]
  },
  {
   "cell_type": "code",
   "execution_count": 37,
   "metadata": {},
   "outputs": [
    {
     "name": "stdout",
     "output_type": "stream",
     "text": [
      "(4, 'Marcia', 'Salvador', 'marcia@gmail.com', 12523490)\n"
     ]
    }
   ],
   "source": [
    "# Selecionar todas as infos dos nome de usuários que estiverem dentro dos nomes de gerentes\n",
    "dados = cursor.execute('SELECT * FROM usuario WHERE nome IN (SELECT nome FROM gerentes)') \n",
    "for usuario in dados:  \n",
    "    print(usuario)"
   ]
  },
  {
   "cell_type": "markdown",
   "metadata": {},
   "source": [
    "Para enviar as alterações ao banco de dados e finalizar a conexão, devemos fazer:"
   ]
  },
  {
   "cell_type": "code",
   "execution_count": 32,
   "metadata": {},
   "outputs": [],
   "source": [
    "conexao.commit() #enviar para o banco de dados"
   ]
  },
  {
   "cell_type": "code",
   "execution_count": 38,
   "metadata": {},
   "outputs": [],
   "source": [
    "conexao.close() #fechar a conexão"
   ]
  }
 ],
 "metadata": {
  "kernelspec": {
   "display_name": "Python 3",
   "language": "python",
   "name": "python3"
  },
  "language_info": {
   "codemirror_mode": {
    "name": "ipython",
    "version": 3
   },
   "file_extension": ".py",
   "mimetype": "text/x-python",
   "name": "python",
   "nbconvert_exporter": "python",
   "pygments_lexer": "ipython3",
   "version": "3.12.1"
  }
 },
 "nbformat": 4,
 "nbformat_minor": 2
}
